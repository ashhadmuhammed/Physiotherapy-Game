{
 "cells": [
  {
   "cell_type": "markdown",
   "id": "6e159612",
   "metadata": {},
   "source": [
    "## Code for Collecting dataset"
   ]
  },
  {
   "cell_type": "code",
   "execution_count": 1,
   "id": "3afba4a1",
   "metadata": {},
   "outputs": [
    {
     "name": "stdout",
     "output_type": "stream",
     "text": [
      "\n",
      "500 images saved to temp\\five\n"
     ]
    }
   ],
   "source": [
    "import cv2\n",
    "import os\n",
    "import sys\n",
    "\n",
    "IMG_SAVE_PATH = 'temp'\n",
    "IMG_CLASS_PATH = os.path.join(IMG_SAVE_PATH, \"five\")\n",
    "\n",
    "try:\n",
    "    os.mkdir(IMG_SAVE_PATH)\n",
    "except FileExistsError:\n",
    "    pass\n",
    "try:\n",
    "    os.mkdir(IMG_CLASS_PATH)\n",
    "except FileExistsError:\n",
    "    print(\"{} directory already exists.\".format(IMG_CLASS_PATH))\n",
    "    print(\"All images gathered will be saved along with existing items in this folder\")\n",
    "\n",
    "cap = cv2.VideoCapture(0)\n",
    "\n",
    "start = False\n",
    "count = 0\n",
    "\n",
    "while True:\n",
    "    ret, frame = cap.read()\n",
    "    frame = cv2.flip(frame, 1)\n",
    "\n",
    "    if count == 500:\n",
    "        break\n",
    "\n",
    "    cv2.rectangle(frame, (380,80),(620,320), (255, 255, 255), 2)\n",
    "\n",
    "    if start:\n",
    "        roi = frame[80:320,380:620]\n",
    "        save_path = os.path.join(IMG_CLASS_PATH, '{}.jpg'.format(count + 1))\n",
    "        cv2.imwrite(save_path, roi)\n",
    "        count += 1\n",
    "\n",
    "    font = cv2.FONT_HERSHEY_SIMPLEX\n",
    "    cv2.putText(frame, \"Collecting {}\".format(count),\n",
    "            (5, 50), font, 0.7, (0, 255, 255), 2, cv2.LINE_AA)\n",
    "    cv2.imshow(\"Collecting images\", frame)\n",
    "\n",
    "    k = cv2.waitKey(10)\n",
    "    if k == ord('a'):\n",
    "        start = not start\n",
    "\n",
    "    if k == ord('q'):\n",
    "        break\n",
    "\n",
    "print(\"\\n{} images saved to {}\".format(count, IMG_CLASS_PATH))\n",
    "cap.release()\n",
    "cv2.destroyAllWindows()"
   ]
  },
  {
   "cell_type": "markdown",
   "id": "e4468faf",
   "metadata": {},
   "source": [
    "## Importing packages"
   ]
  },
  {
   "cell_type": "code",
   "execution_count": 7,
   "id": "cc4b9191",
   "metadata": {},
   "outputs": [],
   "source": [
    "import cv2\n",
    "import numpy as np\n",
    "from tensorflow.keras.optimizers import Adam\n",
    "from keras.utils import np_utils\n",
    "from keras.layers import Activation, Dropout, Convolution2D, GlobalAveragePooling2D\n",
    "from keras.models import Sequential\n",
    "import tensorflow as tf\n",
    "import tensorflow.keras.applications.mobilenet\n",
    "import os\n",
    "\n",
    "IMG_SAVE_PATH = r'dataset'\n",
    "\n",
    "\n",
    "Str_to_Int = {\n",
    "    '0': 0,\n",
    "    '1': 1,\n",
    "    '2': 2,\n",
    "    '3': 3,\n",
    "    '4': 4,\n",
    "    '5': 5,\n",
    "    '6': 6,\n",
    "    'none': 7\n",
    "}\n",
    "\n",
    "NUM_CLASSES = 8\n",
    "\n",
    "\n",
    "def str_to_Int_mapper(val):\n",
    "    return Str_to_Int[val]"
   ]
  },
  {
   "cell_type": "markdown",
   "id": "d4865051",
   "metadata": {},
   "source": [
    "## Defining Model"
   ]
  },
  {
   "cell_type": "code",
   "execution_count": 8,
   "id": "09c6e59c",
   "metadata": {},
   "outputs": [],
   "source": [
    "def get_model():\n",
    "    model = Sequential([\n",
    "        tf.keras.applications.mobilenet.MobileNet(input_shape=(240, 240, 3), include_top=False),\n",
    "        Dropout(0.5),\n",
    "        Convolution2D(8, (1, 1), padding='valid'),\n",
    "        Activation('relu'),        # Rectified Linear Unit - Activation Function\n",
    "        GlobalAveragePooling2D(),  # Pooling Layer\n",
    "        Activation('softmax')      # Softmax - Activation Function - For Multi Class Classification\n",
    "    ])\n",
    "    return model"
   ]
  },
  {
   "cell_type": "markdown",
   "id": "70239d1b",
   "metadata": {},
   "source": [
    "## Loading in the image data"
   ]
  },
  {
   "cell_type": "code",
   "execution_count": 9,
   "id": "5a1091c8",
   "metadata": {},
   "outputs": [],
   "source": [
    "dataset = []\n",
    "for directory in os.listdir(IMG_SAVE_PATH):\n",
    "    \n",
    "    path = os.path.join(IMG_SAVE_PATH, directory)\n",
    "    if not os.path.isdir(path):\n",
    "        continue\n",
    "    for item in os.listdir(path):\n",
    "        new_path = os.path.join(path, item)\n",
    "        for imgg in os.listdir(new_path):\n",
    "            if item.startswith(\".\"):\n",
    "                continue\n",
    "            img = cv2.imread(os.path.join(new_path, imgg))\n",
    "            img = cv2.cvtColor(img, cv2.COLOR_BGR2RGB)\n",
    "            img = cv2.resize(img, (240, 240))\n",
    "            dataset.append([img, item])"
   ]
  },
  {
   "cell_type": "code",
   "execution_count": 11,
   "id": "4223db74",
   "metadata": {},
   "outputs": [
    {
     "data": {
      "text/plain": [
       "28800"
      ]
     },
     "execution_count": 11,
     "metadata": {},
     "output_type": "execute_result"
    }
   ],
   "source": [
    "len(dataset)"
   ]
  },
  {
   "cell_type": "code",
   "execution_count": 12,
   "id": "2a43b110",
   "metadata": {},
   "outputs": [],
   "source": [
    "data, labels = zip(*dataset)\n",
    "temp = list(map(str_to_Int_mapper, labels))"
   ]
  },
  {
   "cell_type": "code",
   "execution_count": null,
   "id": "c9cd563e",
   "metadata": {},
   "outputs": [],
   "source": [
    "temp"
   ]
  },
  {
   "cell_type": "markdown",
   "id": "519cae4c",
   "metadata": {},
   "source": [
    "## Defining the model"
   ]
  },
  {
   "cell_type": "code",
   "execution_count": 22,
   "id": "1bab705c",
   "metadata": {},
   "outputs": [
    {
     "name": "stdout",
     "output_type": "stream",
     "text": [
      "WARNING:tensorflow:`input_shape` is undefined or non-square, or `rows` is not in [128, 160, 192, 224]. Weights for input shape (224, 224) will be loaded as the default.\n"
     ]
    }
   ],
   "source": [
    "# one hot encoding the labels\n",
    "#labels = np_utils.to_categorical(temp)\n",
    "\n",
    "import keras\n",
    "labels = keras.utils.to_categorical(temp)\n",
    "\n",
    "# define the model\n",
    "model = get_model()\n",
    "model.compile(\n",
    "    optimizer=Adam(learning_rate=0.0001),         # lr = learning_rate\n",
    "    loss='categorical_crossentropy',   # Multi-class classification\n",
    "    metrics=['accuracy']  \n",
    ")\n"
   ]
  },
  {
   "cell_type": "code",
   "execution_count": 23,
   "id": "422ede0d",
   "metadata": {},
   "outputs": [
    {
     "data": {
      "text/plain": [
       "array([240, 240,   3])"
      ]
     },
     "execution_count": 23,
     "metadata": {},
     "output_type": "execute_result"
    }
   ],
   "source": [
    "np.array(data[0].shape)"
   ]
  },
  {
   "cell_type": "code",
   "execution_count": 24,
   "id": "8a890288",
   "metadata": {},
   "outputs": [
    {
     "data": {
      "text/plain": [
       "array([28800,     8])"
      ]
     },
     "execution_count": 24,
     "metadata": {},
     "output_type": "execute_result"
    }
   ],
   "source": [
    "np.array(labels.shape)"
   ]
  },
  {
   "cell_type": "markdown",
   "id": "1698b92d",
   "metadata": {},
   "source": [
    "## Fitting the Model"
   ]
  },
  {
   "cell_type": "code",
   "execution_count": 26,
   "id": "07776293",
   "metadata": {},
   "outputs": [
    {
     "ename": "InternalError",
     "evalue": "Failed copying input tensor from /job:localhost/replica:0/task:0/device:CPU:0 to /job:localhost/replica:0/task:0/device:GPU:0 in order to run _EagerConst: Dst tensor is not initialized.",
     "output_type": "error",
     "traceback": [
      "\u001b[1;31m---------------------------------------------------------------------------\u001b[0m",
      "\u001b[1;31mInternalError\u001b[0m                             Traceback (most recent call last)",
      "\u001b[1;32mc:\\Users\\hamra\\Desktop\\ashhad\\hand\\HandCricketSimulation\\Hand Cricket - Artificial Intelligence.ipynb Cell 17\u001b[0m in \u001b[0;36m<cell line: 3>\u001b[1;34m()\u001b[0m\n\u001b[0;32m      <a href='vscode-notebook-cell:/c%3A/Users/hamra/Desktop/ashhad/hand/HandCricketSimulation/Hand%20Cricket%20-%20Artificial%20Intelligence.ipynb#X22sZmlsZQ%3D%3D?line=0'>1</a>\u001b[0m \u001b[39m# start training\u001b[39;00m\n\u001b[1;32m----> <a href='vscode-notebook-cell:/c%3A/Users/hamra/Desktop/ashhad/hand/HandCricketSimulation/Hand%20Cricket%20-%20Artificial%20Intelligence.ipynb#X22sZmlsZQ%3D%3D?line=2'>3</a>\u001b[0m model\u001b[39m.\u001b[39;49mfit(np\u001b[39m.\u001b[39;49marray(data), np\u001b[39m.\u001b[39;49marray(labels),verbose\u001b[39m=\u001b[39;49m\u001b[39m2\u001b[39;49m)\n",
      "File \u001b[1;32mc:\\Users\\hamra\\anaconda3\\hamras\\lib\\site-packages\\keras\\utils\\traceback_utils.py:70\u001b[0m, in \u001b[0;36mfilter_traceback.<locals>.error_handler\u001b[1;34m(*args, **kwargs)\u001b[0m\n\u001b[0;32m     67\u001b[0m     filtered_tb \u001b[39m=\u001b[39m _process_traceback_frames(e\u001b[39m.\u001b[39m__traceback__)\n\u001b[0;32m     68\u001b[0m     \u001b[39m# To get the full stack trace, call:\u001b[39;00m\n\u001b[0;32m     69\u001b[0m     \u001b[39m# `tf.debugging.disable_traceback_filtering()`\u001b[39;00m\n\u001b[1;32m---> 70\u001b[0m     \u001b[39mraise\u001b[39;00m e\u001b[39m.\u001b[39mwith_traceback(filtered_tb) \u001b[39mfrom\u001b[39;00m \u001b[39mNone\u001b[39m\n\u001b[0;32m     71\u001b[0m \u001b[39mfinally\u001b[39;00m:\n\u001b[0;32m     72\u001b[0m     \u001b[39mdel\u001b[39;00m filtered_tb\n",
      "File \u001b[1;32mc:\\Users\\hamra\\anaconda3\\hamras\\lib\\site-packages\\tensorflow\\python\\framework\\constant_op.py:102\u001b[0m, in \u001b[0;36mconvert_to_eager_tensor\u001b[1;34m(value, ctx, dtype)\u001b[0m\n\u001b[0;32m    100\u001b[0m     dtype \u001b[39m=\u001b[39m dtypes\u001b[39m.\u001b[39mas_dtype(dtype)\u001b[39m.\u001b[39mas_datatype_enum\n\u001b[0;32m    101\u001b[0m ctx\u001b[39m.\u001b[39mensure_initialized()\n\u001b[1;32m--> 102\u001b[0m \u001b[39mreturn\u001b[39;00m ops\u001b[39m.\u001b[39;49mEagerTensor(value, ctx\u001b[39m.\u001b[39;49mdevice_name, dtype)\n",
      "\u001b[1;31mInternalError\u001b[0m: Failed copying input tensor from /job:localhost/replica:0/task:0/device:CPU:0 to /job:localhost/replica:0/task:0/device:GPU:0 in order to run _EagerConst: Dst tensor is not initialized."
     ]
    }
   ],
   "source": [
    "# start training\n",
    "\n",
    "model.fit(np.array(data), np.array(labels),verbose=2)"
   ]
  },
  {
   "cell_type": "markdown",
   "id": "65a25ff4",
   "metadata": {},
   "source": [
    "## Saving the Model"
   ]
  },
  {
   "cell_type": "code",
   "execution_count": 31,
   "id": "85774214",
   "metadata": {},
   "outputs": [],
   "source": [
    "# save the model for later use\n",
    "model.save(\"hand-cricket_new_new.h5\")"
   ]
  },
  {
   "cell_type": "markdown",
   "id": "45581ca3",
   "metadata": {},
   "source": [
    "## Model Counting Fingers"
   ]
  },
  {
   "cell_type": "code",
   "execution_count": 29,
   "id": "ec2ad34a",
   "metadata": {},
   "outputs": [],
   "source": [
    "import tensorflow as tf"
   ]
  },
  {
   "cell_type": "code",
   "execution_count": 33,
   "id": "66a44f69",
   "metadata": {},
   "outputs": [],
   "source": [
    "from tensorflow.keras.models import load_model\n"
   ]
  },
  {
   "cell_type": "code",
   "execution_count": 34,
   "id": "c3f5ca8c",
   "metadata": {},
   "outputs": [],
   "source": [
    "model = load_model(r'C:\\Users\\hamra\\Desktop\\ashhad\\hand\\HandCricketSimulation\\model_VGG-10.h5')"
   ]
  },
  {
   "cell_type": "code",
   "execution_count": 41,
   "id": "bba863b9",
   "metadata": {},
   "outputs": [
    {
     "data": {
      "text/plain": [
       "(None, 224, 224, 3)"
      ]
     },
     "execution_count": 41,
     "metadata": {},
     "output_type": "execute_result"
    }
   ],
   "source": [
    "model.input_shape"
   ]
  },
  {
   "cell_type": "code",
   "execution_count": 36,
   "id": "73307451",
   "metadata": {},
   "outputs": [
    {
     "ename": "KeyboardInterrupt",
     "evalue": "",
     "output_type": "error",
     "traceback": [
      "\u001b[1;31m---------------------------------------------------------------------------\u001b[0m",
      "\u001b[1;31mKeyboardInterrupt\u001b[0m                         Traceback (most recent call last)",
      "\u001b[1;32mc:\\Users\\hamra\\Desktop\\ashhad\\hand\\HandCricketSimulation\\Hand Cricket - Artificial Intelligence.ipynb Cell 24\u001b[0m in \u001b[0;36m<cell line: 6>\u001b[1;34m()\u001b[0m\n\u001b[0;32m     <a href='vscode-notebook-cell:/c%3A/Users/hamra/Desktop/ashhad/hand/HandCricketSimulation/Hand%20Cricket%20-%20Artificial%20Intelligence.ipynb#X31sZmlsZQ%3D%3D?line=9'>10</a>\u001b[0m     \u001b[39mcontinue\u001b[39;00m\n\u001b[0;32m     <a href='vscode-notebook-cell:/c%3A/Users/hamra/Desktop/ashhad/hand/HandCricketSimulation/Hand%20Cricket%20-%20Artificial%20Intelligence.ipynb#X31sZmlsZQ%3D%3D?line=11'>12</a>\u001b[0m \u001b[39m# cv2.rectangle(frame,(380,80),(620,320),(0,255,255),2)\u001b[39;00m\n\u001b[0;32m     <a href='vscode-notebook-cell:/c%3A/Users/hamra/Desktop/ashhad/hand/HandCricketSimulation/Hand%20Cricket%20-%20Artificial%20Intelligence.ipynb#X31sZmlsZQ%3D%3D?line=12'>13</a>\u001b[0m \u001b[39m# hand_img = frame[80:320,380:620]\u001b[39;00m\n\u001b[0;32m     <a href='vscode-notebook-cell:/c%3A/Users/hamra/Desktop/ashhad/hand/HandCricketSimulation/Hand%20Cricket%20-%20Artificial%20Intelligence.ipynb#X31sZmlsZQ%3D%3D?line=13'>14</a>\u001b[0m \u001b[39m# img = cv2.cvtColor(hand_img, cv2.COLOR_BGR2RGB)\u001b[39;00m\n\u001b[0;32m     <a href='vscode-notebook-cell:/c%3A/Users/hamra/Desktop/ashhad/hand/HandCricketSimulation/Hand%20Cricket%20-%20Artificial%20Intelligence.ipynb#X31sZmlsZQ%3D%3D?line=14'>15</a>\u001b[0m \u001b[39m# pred = model.predict(np.array([img]))\u001b[39;00m\n\u001b[0;32m     <a href='vscode-notebook-cell:/c%3A/Users/hamra/Desktop/ashhad/hand/HandCricketSimulation/Hand%20Cricket%20-%20Artificial%20Intelligence.ipynb#X31sZmlsZQ%3D%3D?line=15'>16</a>\u001b[0m \u001b[39m# cv2.putText(frame, \"{}\".format(np.argmax(pred)),(5, 50), cv2.FONT_HERSHEY_SIMPLEX, 0.8, (0, 0, 0), 2, cv2.LINE_AA)\u001b[39;00m\n\u001b[0;32m     <a href='vscode-notebook-cell:/c%3A/Users/hamra/Desktop/ashhad/hand/HandCricketSimulation/Hand%20Cricket%20-%20Artificial%20Intelligence.ipynb#X31sZmlsZQ%3D%3D?line=16'>17</a>\u001b[0m \u001b[39m# cv2.imshow(\"Hand Cricket\", frame)\u001b[39;00m\n\u001b[1;32m---> <a href='vscode-notebook-cell:/c%3A/Users/hamra/Desktop/ashhad/hand/HandCricketSimulation/Hand%20Cricket%20-%20Artificial%20Intelligence.ipynb#X31sZmlsZQ%3D%3D?line=18'>19</a>\u001b[0m k \u001b[39m=\u001b[39m cv2\u001b[39m.\u001b[39;49mwaitKey(\u001b[39m10\u001b[39;49m)\n\u001b[0;32m     <a href='vscode-notebook-cell:/c%3A/Users/hamra/Desktop/ashhad/hand/HandCricketSimulation/Hand%20Cricket%20-%20Artificial%20Intelligence.ipynb#X31sZmlsZQ%3D%3D?line=19'>20</a>\u001b[0m \u001b[39mif\u001b[39;00m k \u001b[39m==\u001b[39m \u001b[39mord\u001b[39m(\u001b[39m'\u001b[39m\u001b[39mq\u001b[39m\u001b[39m'\u001b[39m):\n\u001b[0;32m     <a href='vscode-notebook-cell:/c%3A/Users/hamra/Desktop/ashhad/hand/HandCricketSimulation/Hand%20Cricket%20-%20Artificial%20Intelligence.ipynb#X31sZmlsZQ%3D%3D?line=20'>21</a>\u001b[0m     \u001b[39mbreak\u001b[39;00m\n",
      "\u001b[1;31mKeyboardInterrupt\u001b[0m: "
     ]
    }
   ],
   "source": [
    "import cv2\n",
    "import numpy as np\n",
    "cap = cv2.VideoCapture(0)\n",
    "\n",
    "while True:\n",
    "    return_value,frame = cap.read()\n",
    "    frame = cv2.flip(frame,1)\n",
    "\n",
    "    if not return_value:\n",
    "        continue\n",
    "\n",
    "    # cv2.rectangle(frame,(380,80),(620,320),(0,255,255),2)\n",
    "    # hand_img = frame[80:320,380:620]\n",
    "    # img = cv2.cvtColor(hand_img, cv2.COLOR_BGR2RGB)\n",
    "    # pred = model.predict(np.array([img]))\n",
    "    # cv2.putText(frame, \"{}\".format(np.argmax(pred)),(5, 50), cv2.FONT_HERSHEY_SIMPLEX, 0.8, (0, 0, 0), 2, cv2.LINE_AA)\n",
    "    # cv2.imshow(\"Hand Cricket\", frame)\n",
    "\n",
    "    k = cv2.waitKey(10)\n",
    "    if k == ord('q'):\n",
    "        break\n",
    "\n",
    "cap.release()\n",
    "cv2.destroyAllWindows()"
   ]
  },
  {
   "cell_type": "markdown",
   "id": "a4b63cb9",
   "metadata": {},
   "source": [
    "## Hand Cricket Simulation - Fast Version"
   ]
  },
  {
   "cell_type": "code",
   "execution_count": 1,
   "id": "193cfdb6",
   "metadata": {},
   "outputs": [],
   "source": [
    "import cv2\n",
    "import numpy as np\n",
    "from random import choice\n",
    "\n",
    "NUM_TO_VALUE = {\n",
    "    0: \"Defense\",\n",
    "    1: \"One\",\n",
    "    2: \"Two\",\n",
    "    3: \"Three\",\n",
    "    4: \"Four\",\n",
    "    5: \"Five\",\n",
    "    6: \"Six\",\n",
    "    7: \"None\"\n",
    "}\n",
    "\n",
    "def mapper(val):\n",
    "    return NUM_TO_VALUE[val]"
   ]
  },
  {
   "cell_type": "code",
   "execution_count": 2,
   "id": "99e96def",
   "metadata": {},
   "outputs": [],
   "source": [
    "from keras.models import load_model\n",
    "model_1 = load_model('hand-cricket_new_new.h5')"
   ]
  },
  {
   "cell_type": "code",
   "execution_count": null,
   "id": "09a6ddf2",
   "metadata": {},
   "outputs": [],
   "source": [
    "cap_1 = cv2.VideoCapture(0)\n",
    "Batsman_Score = 0\n",
    "High_Score = 0\n",
    "\n",
    "while True:\n",
    "    ret, frame = cap_1.read()\n",
    "    if not ret:\n",
    "        continue\n",
    "    frame = cv2.flip(frame,1)\n",
    "    \n",
    "    # rectangle for user to play\n",
    "    cv2.rectangle(frame,(380,80),(620,320),(0,255,255),2)\n",
    "    \n",
    "    # rectangle for computer to play\n",
    "    cv2.rectangle(frame,(20,80),(260,320),(0,255,255),2)\n",
    "\n",
    "    \n",
    "    # extract the region of image within the user rectangle\n",
    "    roi = frame[80:320,380:620]\n",
    "    img = cv2.cvtColor(roi, cv2.COLOR_BGR2RGB)\n",
    "\n",
    "    \n",
    "    # predict the move made\n",
    "    computer_choices = ['zero', 'one', 'two', 'three', 'four', 'five', 'six']\n",
    "    pred = model_1.predict(np.array([img]))\n",
    "    move_code = np.argmax(pred)\n",
    "    user_move_name = mapper(move_code)\n",
    "    computer_move_name = choice(['zero', 'one', 'two', 'three', 'four', 'five', 'six'])\n",
    "    \n",
    "    \n",
    "    # High Score Calculation\n",
    "    High_Score = max(High_Score, Batsman_Score)\n",
    "    \n",
    "    \n",
    "    # Hand Cricket Logic Implementation\n",
    "    if move_code == 7:\n",
    "        pass\n",
    "    elif move_code == computer_choices.index(computer_move_name):\n",
    "        Batsman_Score = 0\n",
    "    elif move_code == 0:\n",
    "        Batsman_Score += computer_choices.index(computer_move_name)\n",
    "    else:\n",
    "        Batsman_Score += move_code\n",
    "    \n",
    "    \n",
    "    # display the information\n",
    "    font = cv2.FONT_HERSHEY_DUPLEX\n",
    "    cv2.putText(frame, \"Your Move: \" + user_move_name,\n",
    "                (370, 50), font, 0.8, (255, 0, 0), 2, cv2.LINE_AA)\n",
    "    cv2.putText(frame, \"Computer's Move: \" + computer_move_name,\n",
    "                (20, 50), font, 0.8, (255, 0, 0), 2, cv2.LINE_AA)\n",
    "    cv2.putText(frame, \"BOWLER\",\n",
    "                (75, 350), font, 0.8, (255, 0, 0), 2, cv2.LINE_AA)\n",
    "    cv2.putText(frame, \"BATSMAN\",\n",
    "                (440, 350), font, 0.8, (255, 0, 0), 2, cv2.LINE_AA)\n",
    "    cv2.putText(frame, \"CURRENT SCORE: \" + str(Batsman_Score),\n",
    "                (180, 400), font, 0.8, (255, 0, 255), 2, cv2.LINE_AA)\n",
    "    cv2.putText(frame, \"HIGH SCORE: \" + str(High_Score),\n",
    "                (180, 430), font, 0.8, (255, 0, 255), 2, cv2.LINE_AA)\n",
    "    \n",
    "    cv2.imshow(\"Hand Cricket!\", frame)\n",
    "\n",
    "    k = cv2.waitKey(10)\n",
    "    if k == ord('q'):\n",
    "        print(\"High Score: \", High_Score)\n",
    "        break\n",
    "\n",
    "cap_1.release()\n",
    "cv2.destroyAllWindows()"
   ]
  },
  {
   "cell_type": "markdown",
   "id": "7e43bbfe",
   "metadata": {},
   "source": [
    "## Hand Cricket Simulation - Slow Version"
   ]
  },
  {
   "cell_type": "code",
   "execution_count": 8,
   "id": "b078770e",
   "metadata": {},
   "outputs": [],
   "source": [
    "import cv2\n",
    "import numpy as np\n",
    "from random import choice\n",
    "\n",
    "NUM_TO_VALUE = {\n",
    "    0: \"Defense\",\n",
    "    1: \"One\",\n",
    "    2: \"Two\",\n",
    "    3: \"Three\",\n",
    "    4: \"Four\",\n",
    "    5: \"Five\",\n",
    "    6: \"Six\",\n",
    "    7: \"None\"\n",
    "}\n",
    "\n",
    "def mapper(val):\n",
    "    return NUM_TO_VALUE[val]\n",
    "\n",
    "from keras.models import load_model\n",
    "model_1 = load_model('hand-cricket_new_new.h5')"
   ]
  },
  {
   "cell_type": "code",
   "execution_count": 9,
   "id": "f2183c94",
   "metadata": {},
   "outputs": [
    {
     "name": "stdout",
     "output_type": "stream",
     "text": [
      "High Score:  8\n"
     ]
    }
   ],
   "source": [
    "cap_1 = cv2.VideoCapture(0)\n",
    "Batsman_Score = 0\n",
    "High_Score = 0\n",
    "fps = 0\n",
    "user_moves = []\n",
    "pred_moves = []\n",
    "pred_values = []\n",
    "\n",
    "user_move_name = \"Initial\"\n",
    "computer_move_name = \"Initial\"\n",
    "\n",
    "while True:\n",
    "    ret, frame = cap_1.read()\n",
    "    fps+=1\n",
    "    if not ret:\n",
    "        continue\n",
    "    frame = cv2.flip(frame,1)\n",
    "    \n",
    "    # rectangle for user to play\n",
    "    cv2.rectangle(frame,(380,80),(620,320),(0,255,255),2)\n",
    "    \n",
    "    # rectangle for computer to play\n",
    "    cv2.rectangle(frame,(20,80),(260,320),(0,255,255),2)\n",
    "\n",
    "    # extract the region of image within the user rectangle\n",
    "    roi = frame[80:320,380:620]\n",
    "    img = cv2.cvtColor(roi, cv2.COLOR_BGR2RGB)\n",
    "    user_moves.append(img)\n",
    "    \n",
    "    # display the information\n",
    "    font = cv2.FONT_HERSHEY_DUPLEX\n",
    "    cv2.putText(frame, \"Your Move: \",\n",
    "                (390, 50), font, 0.8, (255, 0, 0), 1, cv2.LINE_AA)\n",
    "    cv2.putText(frame, \"Previous Move: \",\n",
    "                (20, 50), font, 0.8, (255, 0, 0), 1, cv2.LINE_AA)\n",
    "    cv2.putText(frame, \"BOWLER\",\n",
    "                (75, 350), font, 0.8, (0, 255, 0), 1, cv2.LINE_AA)\n",
    "    cv2.putText(frame, \"BATSMAN\",\n",
    "                (440, 350), font, 0.8, (0, 255, 0), 1, cv2.LINE_AA)\n",
    "    cv2.putText(frame, \"CURRENT SCORE: \",\n",
    "                (180, 400), font, 0.8, (255, 0, 255), 1, cv2.LINE_AA)\n",
    "    cv2.putText(frame, \"HIGH SCORE: \",\n",
    "                (180, 430), font, 0.8, (255, 0, 255), 1, cv2.LINE_AA)\n",
    "    \n",
    "    if fps==30:\n",
    "        for i in user_moves:\n",
    "            temp = np.array(i)\n",
    "            pred_moves.append(model_1.predict(temp.reshape(1,240,240,3)))\n",
    "        for i in pred_moves:\n",
    "            pred_values.append(np.argmax(i))\n",
    "        \n",
    "        move_code = max(set(pred_values), key = pred_values.count)       \n",
    "    \n",
    "        # predict the move made\n",
    "        computer_choices = ['zero', 'one', 'two', 'three', 'four', 'five', 'six']\n",
    "        user_move_name = mapper(move_code)\n",
    "        computer_move_name = choice(['zero', 'one', 'two', 'three', 'four', 'five', 'six'])\n",
    "        \n",
    "        \n",
    "        fps = 0\n",
    "        user_moves = []\n",
    "        pred_moves = []\n",
    "        pred_values = []\n",
    "    \n",
    "    \n",
    "        # High Score Calculation\n",
    "        High_Score = max(High_Score, Batsman_Score)\n",
    "\n",
    "\n",
    "        # Hand Cricket Logic Implementation\n",
    "        if move_code == 7:\n",
    "            pass\n",
    "        elif move_code == computer_choices.index(computer_move_name):\n",
    "            Batsman_Score = 0\n",
    "        elif move_code == 0:\n",
    "            Batsman_Score += computer_choices.index(computer_move_name)\n",
    "        else:\n",
    "            Batsman_Score += move_code\n",
    "    \n",
    "    \n",
    "    # display the information\n",
    "    font = cv2.FONT_HERSHEY_DUPLEX\n",
    "    cv2.putText(frame, \"Your Move: \" + user_move_name,\n",
    "                (390, 50), font, 0.8, (255, 0, 0), 1, cv2.LINE_AA)\n",
    "    cv2.putText(frame, \"Previous Move: \" + computer_move_name,\n",
    "                (20, 50), font, 0.8, (255, 0, 0), 1, cv2.LINE_AA)\n",
    "    cv2.putText(frame, \"BOWLER\",\n",
    "                (75, 350), font, 0.8, (0, 255, 0), 1, cv2.LINE_AA)\n",
    "    cv2.putText(frame, \"BATSMAN\",\n",
    "                (440, 350), font, 0.8, (0, 255, 0), 1, cv2.LINE_AA)\n",
    "    cv2.putText(frame, \"CURRENT SCORE: \" + str(Batsman_Score),\n",
    "                (180, 400), font, 0.8, (255, 0, 255), 1, cv2.LINE_AA)\n",
    "    cv2.putText(frame, \"HIGH SCORE: \" + str(High_Score),\n",
    "                (180, 430), font, 0.8, (255, 0, 255), 1, cv2.LINE_AA)\n",
    "    \n",
    "    cv2.imshow(\"Hand Cricket!\", frame)\n",
    "\n",
    "    k = cv2.waitKey(10)\n",
    "    if k == ord('q'):\n",
    "        print(\"High Score: \", High_Score)\n",
    "        break\n",
    "\n",
    "cap_1.release()\n",
    "cv2.destroyAllWindows()"
   ]
  },
  {
   "cell_type": "code",
   "execution_count": null,
   "id": "11fbbe62",
   "metadata": {},
   "outputs": [],
   "source": []
  }
 ],
 "metadata": {
  "kernelspec": {
   "display_name": "Python 3.8.10 64-bit",
   "language": "python",
   "name": "python3"
  },
  "language_info": {
   "codemirror_mode": {
    "name": "ipython",
    "version": 3
   },
   "file_extension": ".py",
   "mimetype": "text/x-python",
   "name": "python",
   "nbconvert_exporter": "python",
   "pygments_lexer": "ipython3",
   "version": "3.8.10"
  },
  "vscode": {
   "interpreter": {
    "hash": "916dbcbb3f70747c44a77c7bcd40155683ae19c65e1c03b4aa3499c5328201f1"
   }
  }
 },
 "nbformat": 4,
 "nbformat_minor": 5
}
